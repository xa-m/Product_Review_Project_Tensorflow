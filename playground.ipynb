{
 "cells": [
  {
   "cell_type": "code",
   "execution_count": 1,
   "metadata": {},
   "outputs": [
    {
     "name": "stdout",
     "output_type": "stream",
     "text": [
      "WARNING:tensorflow:Layer lstm_1 will not use cuDNN kernels since it doesn't meet the criteria. It will use a generic GPU kernel as fallback when running on GPU.\n"
     ]
    },
    {
     "name": "stderr",
     "output_type": "stream",
     "text": [
      "WARNING:tensorflow:Layer lstm_1 will not use cuDNN kernels since it doesn't meet the criteria. It will use a generic GPU kernel as fallback when running on GPU.\n"
     ]
    }
   ],
   "source": [
    "import tensorflow as tf\n",
    "import numpy as np\n",
    "import tensorflow_hub as hub\n",
    "import tensorflow_text as text\n",
    "import string\n",
    "\n",
    "class_names = [\"negative\",\"neutral\",\"positive\",]\n",
    "\n",
    "\n",
    "model_1 = tf.keras.models.load_model(\"model_experiments/model_1_bert_embeddings_00.h5\", custom_objects={\"KerasLayer\": hub.KerasLayer})"
   ]
  },
  {
   "cell_type": "code",
   "execution_count": 34,
   "metadata": {},
   "outputs": [
    {
     "name": "stdout",
     "output_type": "stream",
     "text": [
      "1/1 [==============================] - 0s 41ms/step\n",
      "Test sentence: i thought i could have my grandson redeem this but it didnt transfer i wont be buying anymore of these\n",
      "Predicted class: negative with probability of 82%\n"
     ]
    }
   ],
   "source": [
    "test_sentence = input(\"Enter a sentence: \").lower()\n",
    "\n",
    "# delete all characters except letters and spaces\n",
    "test_sentence = \"\".join([char for char in test_sentence if char in string.ascii_letters or char == \" \"])\n",
    "\n",
    "# delete all extra spaces\n",
    "test_sentence = \" \".join(test_sentence.split())\n",
    "\n",
    "# altarnavite way to delete all characters except letters and spaces (it wont remove emojis and extra spaces)\n",
    "\n",
    "# test_sentence = \"\".join([char for char in test_sentence if char not in string.punctuation])\n",
    "# test_sentence = test_sentence.replace(\"\\t\", \" \").replace(\"\\n\", \" \")\n",
    "\n",
    "# make prediction on test_sentence\n",
    "model_1_pred_probs = model_1.predict(tf.expand_dims(test_sentence, axis=0))\n",
    "prediced_class = class_names[np.argmax(model_1_pred_probs)]\n",
    "class_prob = np.max(model_1_pred_probs) * 100\n",
    "\n",
    "print(f\"Test sentence: {test_sentence}\")\n",
    "\n",
    "# print the predicted class but highlight the class_name\n",
    "\n",
    "print(f\"Predicted class: {prediced_class} with probability of {round(class_prob)}%\")"
   ]
  }
 ],
 "metadata": {
  "kernelspec": {
   "display_name": "Python 3",
   "language": "python",
   "name": "python3"
  },
  "language_info": {
   "codemirror_mode": {
    "name": "ipython",
    "version": 3
   },
   "file_extension": ".py",
   "mimetype": "text/x-python",
   "name": "python",
   "nbconvert_exporter": "python",
   "pygments_lexer": "ipython3",
   "version": "3.10.1"
  },
  "orig_nbformat": 4
 },
 "nbformat": 4,
 "nbformat_minor": 2
}
