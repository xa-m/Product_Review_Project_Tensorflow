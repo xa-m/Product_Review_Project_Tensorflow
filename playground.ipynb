{
 "cells": [
  {
   "cell_type": "code",
   "execution_count": 1,
   "metadata": {},
   "outputs": [
    {
     "name": "stdout",
     "output_type": "stream",
     "text": [
      "WARNING:tensorflow:Layer lstm_1 will not use cuDNN kernels since it doesn't meet the criteria. It will use a generic GPU kernel as fallback when running on GPU.\n"
     ]
    },
    {
     "name": "stderr",
     "output_type": "stream",
     "text": [
      "WARNING:tensorflow:Layer lstm_1 will not use cuDNN kernels since it doesn't meet the criteria. It will use a generic GPU kernel as fallback when running on GPU.\n"
     ]
    }
   ],
   "source": [
    "import tensorflow as tf\n",
    "import numpy as np\n",
    "import tensorflow_hub as hub\n",
    "import tensorflow_text as text\n",
    "import string\n",
    "\n",
    "class_names = [\"negative\",\"neutral\",\"positive\",]\n",
    "\n",
    "\n",
    "model_1 = tf.keras.models.load_model(\"model_experiments/model_1_bert_embeddings_01.h5\", custom_objects={\"KerasLayer\": hub.KerasLayer})"
   ]
  },
  {
   "cell_type": "code",
   "execution_count": 2,
   "metadata": {},
   "outputs": [
    {
     "name": "stdout",
     "output_type": "stream",
     "text": [
      "1/1 [==============================] - 2s 2s/step\n",
      "Test sentence: very bad products\n",
      "Predicted class: negative with probability of %99\n"
     ]
    }
   ],
   "source": [
    "test_sentence = input(\"Enter a sentence: \").lower()\n",
    "\n",
    "# remove all punctuation from input\n",
    "test_sentence = \"\".join([char for char in test_sentence if char not in string.punctuation])\n",
    "\n",
    "# make prediction on test_sentence\n",
    "model_1_pred_probs = model_1.predict(tf.expand_dims(test_sentence, axis=0))\n",
    "prediced_class = class_names[np.argmax(model_1_pred_probs)]\n",
    "class_prob = np.max(model_1_pred_probs) * 100\n",
    "\n",
    "print(f\"Test sentence: {test_sentence}\")\n",
    "\n",
    "# print the predicted class but highlight the class_name\n",
    "\n",
    "print(f\"Predicted class: {prediced_class} with probability of %{round(class_prob)}\")"
   ]
  }
 ],
 "metadata": {
  "kernelspec": {
   "display_name": "Python 3",
   "language": "python",
   "name": "python3"
  },
  "language_info": {
   "codemirror_mode": {
    "name": "ipython",
    "version": 3
   },
   "file_extension": ".py",
   "mimetype": "text/x-python",
   "name": "python",
   "nbconvert_exporter": "python",
   "pygments_lexer": "ipython3",
   "version": "3.10.1"
  },
  "orig_nbformat": 4
 },
 "nbformat": 4,
 "nbformat_minor": 2
}
